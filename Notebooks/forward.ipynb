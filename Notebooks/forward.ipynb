{
  "nbformat": 4,
  "nbformat_minor": 0,
  "metadata": {
    "colab": {
      "provenance": [],
      "mount_file_id": "10NGxtp9BYIeWUfI6JHkKMHgf1j4xuj7l",
      "authorship_tag": "ABX9TyOtdVWuONLq6dTGlDvRclNd",
      "include_colab_link": true
    },
    "kernelspec": {
      "name": "python3",
      "display_name": "Python 3"
    },
    "language_info": {
      "name": "python"
    }
  },
  "cells": [
    {
      "cell_type": "markdown",
      "metadata": {
        "id": "view-in-github",
        "colab_type": "text"
      },
      "source": [
        "<a href=\"https://colab.research.google.com/github/Inazuma1002/Web-Science-Lab---Jan2024-Jun2024/blob/main/Notebooks/forward.ipynb\" target=\"_parent\"><img src=\"https://colab.research.google.com/assets/colab-badge.svg\" alt=\"Open In Colab\"/></a>"
      ]
    },
    {
      "cell_type": "code",
      "execution_count": null,
      "metadata": {
        "id": "Qb56zk9pJWjl"
      },
      "outputs": [],
      "source": [
        "import numpy as np\n",
        "import pandas as pd\n",
        "import matplotlib.pyplot as plt\n",
        "import seaborn as sea\n",
        "from sklearn.model_selection import train_test_split as tts\n",
        "from sklearn.linear_model import LinearRegression"
      ]
    },
    {
      "cell_type": "code",
      "source": [
        "data = pd.read_excel('/content/drive/MyDrive/ML/Excel sheets/Hospital_facilities_2018-22.xlsx');\n",
        "print(data)"
      ],
      "metadata": {
        "id": "U21PrvxzKAaM"
      },
      "execution_count": null,
      "outputs": []
    },
    {
      "cell_type": "code",
      "source": [],
      "metadata": {
        "id": "z9Cwlcxv2dBr"
      },
      "execution_count": null,
      "outputs": []
    },
    {
      "cell_type": "code",
      "source": [
        "for col in data.keys():\n",
        "  if col not in {'Sr no', 'Districts'}:\n",
        "    data[f'Delta_{col}'] = data[col].diff()\n",
        "data['Delta_Maternal Death'] = data['Maternal Death'].diff()\n",
        "print (data)"
      ],
      "metadata": {
        "id": "e5mL1tlQ9-R9"
      },
      "execution_count": null,
      "outputs": []
    },
    {
      "cell_type": "code",
      "source": [
        "plt.figure(figsize=(10, 10))\n",
        "\n",
        "plt.scatter(data['Delta_108 Ambulances_No. of Patients benefited'], data['Delta_Maternal Death'], label='change in MD due to change in Number of patients benefited of Ambulance')\n",
        "plt.scatter(data['Delta_Number of 24/7 working Hospitals_No. of Delivaries occured in Hospitals'], data['Delta_Maternal Death'], label = 'change in MD due to change in Deliveries happening in hospitals' )\n",
        "plt.xlabel('Change in Attribute')\n",
        "plt.ylabel('Change in Maternal Death rate')\n",
        "plt.title('Change in Attribute vs. Change in Maternal Death over 4 years')\n",
        "plt.legend()\n",
        "plt.grid(True)\n",
        "plt.show()"
      ],
      "metadata": {
        "id": "QVO4-oLEAQ6w"
      },
      "execution_count": null,
      "outputs": []
    },
    {
      "cell_type": "code",
      "source": [
        "df = pd.DataFrame(data)\n",
        "df = df.dropna()\n",
        "df"
      ],
      "metadata": {
        "id": "i5iJt8EHKz1j"
      },
      "execution_count": null,
      "outputs": []
    },
    {
      "cell_type": "code",
      "source": [
        "X = df.drop(['Sr no', 'Districts', 'F.R.U\\n(First Referral Units)', '108 Ambulances_No. of Vehicles', '108 Ambulances_No. of Patients benefited', 'Number of 24/7 working Hospitals_Nos', 'Number of 24/7 working Hospitals_No. of Delivaries occured in Hospitals', 'No. of Benificiaries availed Janani Suraksha Yojana', 'No. of Beneficiaries received Madilu kit', 'Maternal Death', 'No. of Beneficiaries under Supplementary Nutrition Programme','Delta_Maternal Death'], axis=1)  # Predictor variables\n",
        "y = df['Delta_Maternal Death']  # Target variable"
      ],
      "metadata": {
        "id": "uP25mxk3aQ43"
      },
      "execution_count": null,
      "outputs": []
    },
    {
      "cell_type": "code",
      "source": [
        "model = LinearRegression()\n"
      ],
      "metadata": {
        "id": "1VzAmQo8sqKH"
      },
      "execution_count": null,
      "outputs": []
    },
    {
      "cell_type": "code",
      "source": [],
      "metadata": {
        "id": "pC8XJLiPuSNk"
      },
      "execution_count": null,
      "outputs": []
    },
    {
      "cell_type": "code",
      "source": [
        "coefficients = dict(zip(X.columns, model.coef_))\n",
        "print(\"Weightage of changes in each attribute on changes in the target variable over 4 years:\")\n",
        "print(coefficients)"
      ],
      "metadata": {
        "id": "hZlTdNlJtyJr"
      },
      "execution_count": null,
      "outputs": []
    },
    {
      "cell_type": "code",
      "source": [
        "data2 = pd.read_excel('/content/drive/MyDrive/ML/Excel sheets/Districts_2018-22/Bagalkot.xlsx')\n",
        "for col in data2.keys():\n",
        "  if col not in {'Sr no', 'Districts'}:\n",
        "    data2[f'Delta_{col}'] = data2[col].diff()\n",
        "data2['Delta_Maternal Death'] = data2['Maternal Death'].diff()\n",
        "print (data2)"
      ],
      "metadata": {
        "id": "lyEKrkQhuTB0"
      },
      "execution_count": null,
      "outputs": []
    },
    {
      "cell_type": "code",
      "source": [
        "df = pd.DataFrame(data2)\n",
        "df = df.dropna()\n",
        "X = df.drop(['Sr no', 'Districts', 'F.R.U\\n(First Referral Units)', '108 Ambulances_No. of Vehicles', '108 Ambulances_No. of Patients benefited', 'Number of 24/7 working Hospitals_Nos', 'Number of 24/7 working Hospitals_No. of Delivaries occured in Hospitals', 'No. of Benificiaries availed Janani Suraksha Yojana', 'No. of Beneficiaries received Madilu kit', 'Maternal Death', 'No. of Beneficiaries under Supplementary Nutrition Programme','Delta_Maternal Death'], axis=1)  # Predictor variables\n",
        "y = df['Delta_Maternal Death']  # Target variable\n",
        "model = LinearRegression()\n",
        "model.fit(X, y)\n",
        "coefficients2 = dict(zip(X.columns, model.coef_))\n",
        "print(\"Weightage of changes in each attribute on changes in the target variable over 4 years:\")\n",
        "print(coefficients2)"
      ],
      "metadata": {
        "id": "I3hK79u80P2-"
      },
      "execution_count": null,
      "outputs": []
    },
    {
      "cell_type": "code",
      "source": [
        "average_coefficients = {}\n",
        "\n",
        "for key in coefficients.keys():\n",
        "    average_coefficient = (coefficients[key] + coefficients2[key]) / 2\n",
        "    print(f\"Average coefficient for {key}: {average_coefficient}\")"
      ],
      "metadata": {
        "id": "Fpqk8CGK0p5f"
      },
      "execution_count": null,
      "outputs": []
    },
    {
      "cell_type": "code",
      "source": [],
      "metadata": {
        "id": "_YNEDopP2eck"
      },
      "execution_count": null,
      "outputs": []
    },
    {
      "cell_type": "markdown",
      "source": [
        "April 23"
      ],
      "metadata": {
        "id": "WTusx4Lx2gPQ"
      }
    },
    {
      "cell_type": "code",
      "source": [
        "data = pd.read_excel('/content/drive/MyDrive/ML/Excel sheets/Total Districts-2.xlsx')\n",
        "data"
      ],
      "metadata": {
        "id": "s1jXM0SI2jEX"
      },
      "execution_count": null,
      "outputs": []
    },
    {
      "cell_type": "code",
      "source": [],
      "metadata": {
        "id": "uFB5vfz-o_1O"
      },
      "execution_count": null,
      "outputs": []
    },
    {
      "cell_type": "code",
      "source": [
        "for col in data.keys():\n",
        "  if col not in {'Sr no', 'Districts'}:\n",
        "    data[f'Delta_{col}'] = data[col].diff()\n",
        "data['Delta_Maternal Death'] = data['Maternal Death'].diff()\n",
        "print (data)"
      ],
      "metadata": {
        "id": "Dhcl0JD55msL"
      },
      "execution_count": null,
      "outputs": []
    },
    {
      "cell_type": "code",
      "source": [],
      "metadata": {
        "id": "52_cS87W6FGd"
      },
      "execution_count": null,
      "outputs": []
    },
    {
      "cell_type": "code",
      "source": [
        "print(df.dtypes)"
      ],
      "metadata": {
        "id": "JEPkpk5tCIav"
      },
      "execution_count": null,
      "outputs": []
    },
    {
      "cell_type": "code",
      "source": [
        "df = pd.DataFrame(data)\n",
        "\n",
        "# Min-max scaling for each attribute\n",
        "for col in df.columns:\n",
        "    if col not in {'Districts', 'Sr no'} :\n",
        "        min_val = df[col].min()\n",
        "        max_val = df[col].max()\n",
        "        df[col + '_norm'] = (df[col] - min_val) / (max_val - min_val)\n",
        "df"
      ],
      "metadata": {
        "id": "DBHQgnQUBO7_"
      },
      "execution_count": null,
      "outputs": []
    },
    {
      "cell_type": "code",
      "source": [
        "for col in data.keys():\n",
        "  if col not in {'Sr no', 'Districts','108 Ambulances_No. of Vehicles','108 Ambulances_No. of Patients benefite','Number of 24/7 working Hospitals_Nos','Number of 24/7 working Hospitals_No. of Delivaries occured in Hospitals','No. of Benificiaries availed Janani Suraksha Yojana','No. of Beneficiaries received Madilu kit','Maternal Death', 'No. of Beneficiaries under Supplementary Nutrition Programme'}:\n",
        "    data[f'Delta_{col}'] = data[col].diff()\n",
        "data['Delta_Maternal Death'] = data['Maternal Death'].diff()\n",
        "\n",
        "data"
      ],
      "metadata": {
        "id": "vj3VMzCBEPnw"
      },
      "execution_count": null,
      "outputs": []
    },
    {
      "cell_type": "code",
      "source": [
        "df = pd.DataFrame(data)\n",
        "df = df.dropna()\n",
        "X = df.drop(['Sr no', 'Districts', 'F.R.U\\n(First Referral Units)', '108 Ambulances_No. of Vehicles', '108 Ambulances_No. of Patients benefited', 'Number of 24/7 working Hospitals_Nos', 'Number of 24/7 working Hospitals_No. of Delivaries occured in Hospitals', 'No. of Benificiaries availed Janani Suraksha Yojana', 'No. of Beneficiaries received Madilu kit', 'Maternal Death', 'No. of Beneficiaries under Supplementary Nutrition Programme','Delta_Maternal Death'], axis=1)  # Predictor variables\n",
        "y = df['Delta_Maternal Death']  # Target variable\n",
        "model = LinearRegression()\n",
        "model.fit(X, y)\n",
        "coefficients2 = dict(zip(X.columns, model.coef_))\n",
        "coefficients2\n"
      ],
      "metadata": {
        "id": "H6tYD6_lFc66"
      },
      "execution_count": null,
      "outputs": []
    },
    {
      "cell_type": "markdown",
      "source": [
        "May 1\n"
      ],
      "metadata": {
        "id": "CmoztY9OsjDU"
      }
    },
    {
      "cell_type": "code",
      "source": [
        "data = pd.read_excel('/content/drive/MyDrive/ML/Excel sheets/May 1.xlsx')\n",
        "data.dropna(inplace = True)\n",
        "data"
      ],
      "metadata": {
        "id": "TgvCVypzpBXS"
      },
      "execution_count": null,
      "outputs": []
    },
    {
      "cell_type": "code",
      "source": [
        "df = pd.DataFrame(data)\n",
        "df = df.dropna()\n",
        "X = df.drop(['Maternal Death'], axis=1)  # Predictor variables\n",
        "y = df['Maternal Death']  # Target variable\n",
        "model = LinearRegression()\n",
        "model.fit(X, y)\n",
        "coefficients2 = dict(zip(X.columns, model.coef_))\n",
        "coefficients2"
      ],
      "metadata": {
        "colab": {
          "base_uri": "https://localhost:8080/"
        },
        "id": "bgA3zfO8shzw",
        "outputId": "9b4290b4-60c4-428d-c66a-27b75ebf9b99"
      },
      "execution_count": null,
      "outputs": [
        {
          "output_type": "execute_result",
          "data": {
            "text/plain": [
              "{'F.R.U\\n(First Referral Units)': 0.41622232577856844,\n",
              " '108 Ambulances_No. of Vehicles': -0.13602850367970107,\n",
              " '108 Ambulances_No. of Patients benefited': -0.0007257719457827161,\n",
              " 'Number of 24/7 working Hospitals_Nos': 0.04894077660013333,\n",
              " 'Number of 24/7 working Hospitals_No. of Delivaries occured in Hospitals': 0.0001669299169968913,\n",
              " 'No. of Benificiaries availed Janani Suraksha Yojana': -0.00036948518498678123,\n",
              " 'No. of Beneficiaries received Madilu kit': -0.0017136945926175828,\n",
              " 'No. of Beneficiaries under Supplementary Nutrition Programme': -0.00012768096293563295}"
            ]
          },
          "metadata": {},
          "execution_count": 15
        }
      ]
    },
    {
      "cell_type": "code",
      "source": [
        "import statsmodels.api as sm"
      ],
      "metadata": {
        "id": "0gwiY1T7thtp"
      },
      "execution_count": null,
      "outputs": []
    },
    {
      "cell_type": "code",
      "source": [
        "X = df.drop(['Maternal Death'], axis=1)  # Predictor variables\n",
        "y = df['Maternal Death']  # Target variable\n",
        "X = sm.add_constant(X)\n",
        "model = sm.OLS(y, X).fit()\n",
        "\n",
        "# Print regression results\n",
        "print(model.summary())"
      ],
      "metadata": {
        "colab": {
          "base_uri": "https://localhost:8080/"
        },
        "id": "0u-G5CdixapB",
        "outputId": "745d1b93-41bc-42c8-c5c3-f66b36b37797"
      },
      "execution_count": null,
      "outputs": [
        {
          "output_type": "stream",
          "name": "stdout",
          "text": [
            "                            OLS Regression Results                            \n",
            "==============================================================================\n",
            "Dep. Variable:         Maternal Death   R-squared:                       0.637\n",
            "Model:                            OLS   Adj. R-squared:                  0.499\n",
            "Method:                 Least Squares   F-statistic:                     4.615\n",
            "Date:                Wed, 01 May 2024   Prob (F-statistic):            0.00230\n",
            "Time:                        10:50:20   Log-Likelihood:                -118.72\n",
            "No. Observations:                  30   AIC:                             255.4\n",
            "Df Residuals:                      21   BIC:                             268.1\n",
            "Df Model:                           8                                         \n",
            "Covariance Type:            nonrobust                                         \n",
            "===========================================================================================================================================\n",
            "                                                                              coef    std err          t      P>|t|      [0.025      0.975]\n",
            "-------------------------------------------------------------------------------------------------------------------------------------------\n",
            "const                                                                      -5.5793      4.387     -1.272      0.217     -14.703       3.544\n",
            "F.R.U\n",
            "(First Referral Units)                                                0.4162      0.414      1.006      0.326      -0.445       1.277\n",
            "108 Ambulances_No. of Vehicles                                             -0.1360      1.474     -0.092      0.927      -3.201       2.929\n",
            "108 Ambulances_No. of Patients benefited                                   -0.0007      0.000     -5.759      0.000      -0.001      -0.000\n",
            "Number of 24/7 working Hospitals_Nos                                        0.0489      0.118      0.414      0.683      -0.197       0.295\n",
            "Number of 24/7 working Hospitals_No. of Delivaries occured in Hospitals     0.0002      0.000      0.591      0.561      -0.000       0.001\n",
            "No. of Benificiaries availed Janani Suraksha Yojana                        -0.0004      0.000     -0.754      0.459      -0.001       0.001\n",
            "No. of Beneficiaries received Madilu kit                                   -0.0017      0.004     -0.439      0.665      -0.010       0.006\n",
            "No. of Beneficiaries under Supplementary Nutrition Programme               -0.0001      0.000     -0.316      0.755      -0.001       0.001\n",
            "==============================================================================\n",
            "Omnibus:                        5.349   Durbin-Watson:                   1.884\n",
            "Prob(Omnibus):                  0.069   Jarque-Bera (JB):                3.682\n",
            "Skew:                          -0.652   Prob(JB):                        0.159\n",
            "Kurtosis:                       4.116   Cond. No.                     3.91e+04\n",
            "==============================================================================\n",
            "\n",
            "Notes:\n",
            "[1] Standard Errors assume that the covariance matrix of the errors is correctly specified.\n",
            "[2] The condition number is large, 3.91e+04. This might indicate that there are\n",
            "strong multicollinearity or other numerical problems.\n"
          ]
        }
      ]
    },
    {
      "cell_type": "markdown",
      "source": [
        "1. The coefficients represent the estimated change in the dependent variable for a one-unit change in the corresponding independent variable, holding other variables constant.\n",
        "\n",
        "2. For example, the coefficient for \"F.R.U (First Referral Units)\" is 0.4162. This suggests that, on average, a one-unit increase in the number of First Referral Units is associated with a 0.4162 unit increase in Maternal Death.\n",
        "\n",
        "\n",
        "3. The p-values associated with each coefficient indicate the statistical significance of the relationship between the independent variable and the dependent variable. For instance, the coefficient for \"108 Ambulances_No. of Patients benefited\" has a p-value of 0.000, suggesting a statistically significant relationship."
      ],
      "metadata": {
        "id": "-0MsZcI1yMs6"
      }
    },
    {
      "cell_type": "markdown",
      "source": [
        "R-squared value of 0.637 means that approximately 63.7% of the variance in the dependent variable (Maternal Death) is explained by the independent variables included in the model."
      ],
      "metadata": {
        "id": "H0vEImdmyZpa"
      }
    },
    {
      "cell_type": "markdown",
      "source": [
        "According to P-value, In summary, only the variable \"108 Ambulances_No. of Patients benefited\" is statistically significant at the conventional significance level of 0.05. The number of patients benefited by ambulances is negatively associated with Maternal Death. Other variables do not have statistically significant relationships with Maternal Death based on the given results."
      ],
      "metadata": {
        "id": "Bxroue0mz6h0"
      }
    },
    {
      "cell_type": "code",
      "source": [
        "import pdfplumber\n",
        "\n",
        "# Open the PDF file\n",
        "with pdfplumber.open(\"your_pdf_file.pdf\") as pdf:\n",
        "    # Iterate through each page\n",
        "    for page in pdf.pages:\n",
        "        # Extract tables from the page\n",
        "        tables = page.extract_tables()\n",
        "\n",
        "        # Iterate through each table on the page\n",
        "        for table in tables:\n",
        "            # Print the table\n",
        "            for row in table:\n",
        "                print(row)\n",
        "            print(\"\\n\")  # Separate tables with a blank line\n"
      ],
      "metadata": {
        "id": "b9thlHc6HjLS"
      },
      "execution_count": null,
      "outputs": []
    }
  ]
}